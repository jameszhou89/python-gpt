{
 "cells": [
  {
   "cell_type": "code",
   "execution_count": null,
   "id": "f67846db",
   "metadata": {},
   "outputs": [],
   "source": [
    "import openai\n",
    "import pandas as pd"
   ]
  },
  {
   "cell_type": "code",
   "execution_count": null,
   "id": "02021154",
   "metadata": {},
   "outputs": [],
   "source": [
    "openai.api_key = \"your key here\""
   ]
  },
  {
   "cell_type": "code",
   "execution_count": null,
   "id": "c7d1f4fd",
   "metadata": {},
   "outputs": [],
   "source": [
    "# system setting\n",
    "setting =  '''\n",
    "your setting here\n",
    "'''\n",
    "\n",
    "# prompt\n",
    "myprompt =  '''\n",
    "your prompt here\n",
    "'''\n"
   ]
  },
  {
   "cell_type": "code",
   "execution_count": null,
   "id": "37bc15d8",
   "metadata": {},
   "outputs": [],
   "source": [
    "# 调用chatgpt接口\n",
    "def get_response(inputinfo):     \n",
    "  completion = openai.ChatCompletion.create(\n",
    "    model=\"gpt-3.5-turbo\", # 选取gpt-3.5-turbo模型\n",
    "    messages=[\n",
    "      {\"role\":\"system\",\"content\":setting},\n",
    "      {\"role\":\"user\",\"content\":myprompt}\n",
    "    ],\n",
    "    max_tokens=700, #调整参数\n",
    "    n=1,\n",
    "    stop=None,\n",
    "    temperature=0.6, #调整参数\n",
    "    )\n",
    "\n",
    "  response_text = completion[\"choices\"][0]['message']['content']\n",
    "  return response_text"
   ]
  },
  {
   "cell_type": "code",
   "execution_count": null,
   "id": "817522b1",
   "metadata": {},
   "outputs": [],
   "source": [
    " # 定义批量处理的函数\n",
    "def get_content(inputinfo):  \n",
    "    print(inputinfo)\n",
    "    output = ''\n",
    "    try:\n",
    "        output = get_response(inputinfo)\n",
    "        print(\"openai接口返回成功\")\n",
    "    except:\n",
    "        print(\"openai接口错误\")\n",
    "        pass\n",
    "    return output "
   ]
  },
  {
   "cell_type": "code",
   "execution_count": null,
   "id": "1fb70728",
   "metadata": {},
   "outputs": [],
   "source": [
    "# 读取excel表格信息\n",
    "df = pd.read_excel(\"your_excel.xlsx\")\n",
    "print(df.head())"
   ]
  },
  {
   "cell_type": "code",
   "execution_count": null,
   "id": "975b7536",
   "metadata": {},
   "outputs": [],
   "source": [
    "print(df.loc[0:5,'A'])"
   ]
  },
  {
   "cell_type": "code",
   "execution_count": null,
   "id": "1585bee0",
   "metadata": {},
   "outputs": [],
   "source": [
    "# 对A列的数据进行批量计算，把结果存在B列\n",
    "df.loc[1:100,'B'] = df.loc[1:100,'A'].apply(get_content)"
   ]
  },
  {
   "cell_type": "code",
   "execution_count": null,
   "id": "9ec0e53a",
   "metadata": {},
   "outputs": [],
   "source": [
    "df.to_excel('your_excel.xlsx', index=False) # 写入Excel文件"
   ]
  },
  {
   "cell_type": "code",
   "execution_count": null,
   "id": "d53d0d1e",
   "metadata": {},
   "outputs": [],
   "source": [
    "print(df.head())"
   ]
  },
  {
   "cell_type": "code",
   "execution_count": null,
   "id": "bc1c0fb9",
   "metadata": {},
   "outputs": [],
   "source": []
  },
  {
   "cell_type": "code",
   "execution_count": null,
   "id": "1a684631",
   "metadata": {},
   "outputs": [],
   "source": []
  }
 ],
 "metadata": {
  "kernelspec": {
   "display_name": "Python 3 (ipykernel)",
   "language": "python",
   "name": "python3"
  },
  "language_info": {
   "codemirror_mode": {
    "name": "ipython",
    "version": 3
   },
   "file_extension": ".py",
   "mimetype": "text/x-python",
   "name": "python",
   "nbconvert_exporter": "python",
   "pygments_lexer": "ipython3",
   "version": "3.9.12"
  }
 },
 "nbformat": 4,
 "nbformat_minor": 5
}
